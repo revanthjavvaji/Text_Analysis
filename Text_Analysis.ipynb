{
  "nbformat": 4,
  "nbformat_minor": 0,
  "metadata": {
    "colab": {
      "provenance": [],
      "authorship_tag": "ABX9TyM9Yu9if5gTPeJTagsyj/6r",
      "include_colab_link": true
    },
    "kernelspec": {
      "name": "python3",
      "display_name": "Python 3"
    },
    "language_info": {
      "name": "python"
    }
  },
  "cells": [
    {
      "cell_type": "markdown",
      "metadata": {
        "id": "view-in-github",
        "colab_type": "text"
      },
      "source": [
        "<a href=\"https://colab.research.google.com/github/revanthjavvaji/Text_Analysis/blob/main/BC_TA.ipynb\" target=\"_parent\"><img src=\"https://colab.research.google.com/assets/colab-badge.svg\" alt=\"Open In Colab\"/></a>"
      ]
    },
    {
      "cell_type": "code",
      "execution_count": null,
      "metadata": {
        "id": "L02-zwdW34bq"
      },
      "outputs": [],
      "source": [
        "# Import the required libraries\n",
        "import os\n",
        "import pandas as pd\n",
        "import numpy as np"
      ]
    },
    {
      "cell_type": "code",
      "source": [
        "import nltk\n",
        "nltk.download('punkt')"
      ],
      "metadata": {
        "colab": {
          "base_uri": "https://localhost:8080/"
        },
        "id": "lJ6xWhCQ4Zqv",
        "outputId": "acba9dee-4f0e-4744-c86f-e4068c1e3846"
      },
      "execution_count": null,
      "outputs": [
        {
          "output_type": "stream",
          "name": "stderr",
          "text": [
            "[nltk_data] Downloading package punkt to /root/nltk_data...\n",
            "[nltk_data]   Unzipping tokenizers/punkt.zip.\n"
          ]
        },
        {
          "output_type": "execute_result",
          "data": {
            "text/plain": [
              "True"
            ]
          },
          "metadata": {},
          "execution_count": 2
        }
      ]
    },
    {
      "cell_type": "code",
      "source": [
        "stop_file=open('/content/Stop_Words.txt',\"r\")"
      ],
      "metadata": {
        "id": "zwF7lbtZ8HKf"
      },
      "execution_count": null,
      "outputs": []
    },
    {
      "cell_type": "code",
      "source": [
        "stop_words=stop_file.read()"
      ],
      "metadata": {
        "id": "9zOCjuylDxvO"
      },
      "execution_count": null,
      "outputs": []
    },
    {
      "cell_type": "code",
      "source": [
        "stop_words"
      ],
      "metadata": {
        "id": "YG501RbvFCi8"
      },
      "execution_count": null,
      "outputs": []
    },
    {
      "cell_type": "markdown",
      "source": [
        "# Tokenizing  words"
      ],
      "metadata": {
        "id": "4pkyKXM4BM2i"
      }
    },
    {
      "cell_type": "code",
      "source": [
        "from nltk.tokenize import word_tokenize\n",
        "final_s_words=word_tokenize(stop_words)"
      ],
      "metadata": {
        "id": "HuSc8C_6BUXB"
      },
      "execution_count": null,
      "outputs": []
    },
    {
      "cell_type": "code",
      "source": [
        "final_s_words"
      ],
      "metadata": {
        "id": "WT-JhHIYDQ0J"
      },
      "execution_count": null,
      "outputs": []
    },
    {
      "cell_type": "code",
      "source": [
        "Extracted_data=pd.read_csv('/content/Extracted_Data.csv',encoding = \"ISO-8859-1\",error_bad_lines=False)"
      ],
      "metadata": {
        "colab": {
          "base_uri": "https://localhost:8080/"
        },
        "id": "4ssNNPzhAUM0",
        "outputId": "de478614-19fa-4a14-9a35-80806f8ac1f2"
      },
      "execution_count": null,
      "outputs": [
        {
          "output_type": "stream",
          "name": "stderr",
          "text": [
            "/usr/local/lib/python3.8/dist-packages/IPython/core/interactiveshell.py:3326: FutureWarning: The error_bad_lines argument has been deprecated and will be removed in a future version.\n",
            "\n",
            "\n",
            "  exec(code_obj, self.user_global_ns, self.user_ns)\n"
          ]
        }
      ]
    },
    {
      "cell_type": "code",
      "source": [
        "Extracted_data"
      ],
      "metadata": {
        "colab": {
          "base_uri": "https://localhost:8080/",
          "height": 424
        },
        "id": "x2Gm55xkAj9X",
        "outputId": "f38d3195-06ac-451d-f0f4-b795254f3f60"
      },
      "execution_count": null,
      "outputs": [
        {
          "output_type": "execute_result",
          "data": {
            "text/plain": [
              "                                          article_text  \\\n",
              "0    âIf anything kills over 10 million people in...   \n",
              "1    âAnything that could give rise to smarter-th...   \n",
              "2    AI is rapidly evolving in the employment secto...   \n",
              "3    Where is this disruptive technology taking us?...   \n",
              "4    In future or in upcoming years humans and mach...   \n",
              "..                                                 ...   \n",
              "106  between having a tight budget and being seriou...   \n",
              "107  To begin with I shall first like to explain wh...   \n",
              "108  Analytics is a statistical scientific process ...   \n",
              "109  An investment is a resource or thing procured ...   \n",
              "110  Blockchain or the Distributed Ledger Technolog...   \n",
              "\n",
              "                                         article_title  \n",
              "0    AI in healthcare to Improve Patient Outcomes -...  \n",
              "1    Will Machine Replace The Human in the Future o...  \n",
              "2    What Jobs Will Robots Take From Humans in The ...  \n",
              "3    Will machine replace the human in the future o...  \n",
              "4    How humans and machines are evolving to work t...  \n",
              "..                                                 ...  \n",
              "106     Blockchain for Payments - Blackcoffer Insights  \n",
              "107  Challenges and Opportunities of Big Data in He...  \n",
              "108  Business Analytics In The Healthcare Industry ...  \n",
              "109     The future of Investing - Blackcoffer Insights  \n",
              "110       Blockchain in Fintech - Blackcoffer Insights  \n",
              "\n",
              "[111 rows x 2 columns]"
            ],
            "text/html": [
              "\n",
              "  <div id=\"df-d317f36d-7ee1-4c45-b79e-f6c67aef7eca\">\n",
              "    <div class=\"colab-df-container\">\n",
              "      <div>\n",
              "<style scoped>\n",
              "    .dataframe tbody tr th:only-of-type {\n",
              "        vertical-align: middle;\n",
              "    }\n",
              "\n",
              "    .dataframe tbody tr th {\n",
              "        vertical-align: top;\n",
              "    }\n",
              "\n",
              "    .dataframe thead th {\n",
              "        text-align: right;\n",
              "    }\n",
              "</style>\n",
              "<table border=\"1\" class=\"dataframe\">\n",
              "  <thead>\n",
              "    <tr style=\"text-align: right;\">\n",
              "      <th></th>\n",
              "      <th>article_text</th>\n",
              "      <th>article_title</th>\n",
              "    </tr>\n",
              "  </thead>\n",
              "  <tbody>\n",
              "    <tr>\n",
              "      <th>0</th>\n",
              "      <td>âIf anything kills over 10 million people in...</td>\n",
              "      <td>AI in healthcare to Improve Patient Outcomes -...</td>\n",
              "    </tr>\n",
              "    <tr>\n",
              "      <th>1</th>\n",
              "      <td>âAnything that could give rise to smarter-th...</td>\n",
              "      <td>Will Machine Replace The Human in the Future o...</td>\n",
              "    </tr>\n",
              "    <tr>\n",
              "      <th>2</th>\n",
              "      <td>AI is rapidly evolving in the employment secto...</td>\n",
              "      <td>What Jobs Will Robots Take From Humans in The ...</td>\n",
              "    </tr>\n",
              "    <tr>\n",
              "      <th>3</th>\n",
              "      <td>Where is this disruptive technology taking us?...</td>\n",
              "      <td>Will machine replace the human in the future o...</td>\n",
              "    </tr>\n",
              "    <tr>\n",
              "      <th>4</th>\n",
              "      <td>In future or in upcoming years humans and mach...</td>\n",
              "      <td>How humans and machines are evolving to work t...</td>\n",
              "    </tr>\n",
              "    <tr>\n",
              "      <th>...</th>\n",
              "      <td>...</td>\n",
              "      <td>...</td>\n",
              "    </tr>\n",
              "    <tr>\n",
              "      <th>106</th>\n",
              "      <td>between having a tight budget and being seriou...</td>\n",
              "      <td>Blockchain for Payments - Blackcoffer Insights</td>\n",
              "    </tr>\n",
              "    <tr>\n",
              "      <th>107</th>\n",
              "      <td>To begin with I shall first like to explain wh...</td>\n",
              "      <td>Challenges and Opportunities of Big Data in He...</td>\n",
              "    </tr>\n",
              "    <tr>\n",
              "      <th>108</th>\n",
              "      <td>Analytics is a statistical scientific process ...</td>\n",
              "      <td>Business Analytics In The Healthcare Industry ...</td>\n",
              "    </tr>\n",
              "    <tr>\n",
              "      <th>109</th>\n",
              "      <td>An investment is a resource or thing procured ...</td>\n",
              "      <td>The future of Investing - Blackcoffer Insights</td>\n",
              "    </tr>\n",
              "    <tr>\n",
              "      <th>110</th>\n",
              "      <td>Blockchain or the Distributed Ledger Technolog...</td>\n",
              "      <td>Blockchain in Fintech - Blackcoffer Insights</td>\n",
              "    </tr>\n",
              "  </tbody>\n",
              "</table>\n",
              "<p>111 rows × 2 columns</p>\n",
              "</div>\n",
              "      <button class=\"colab-df-convert\" onclick=\"convertToInteractive('df-d317f36d-7ee1-4c45-b79e-f6c67aef7eca')\"\n",
              "              title=\"Convert this dataframe to an interactive table.\"\n",
              "              style=\"display:none;\">\n",
              "        \n",
              "  <svg xmlns=\"http://www.w3.org/2000/svg\" height=\"24px\"viewBox=\"0 0 24 24\"\n",
              "       width=\"24px\">\n",
              "    <path d=\"M0 0h24v24H0V0z\" fill=\"none\"/>\n",
              "    <path d=\"M18.56 5.44l.94 2.06.94-2.06 2.06-.94-2.06-.94-.94-2.06-.94 2.06-2.06.94zm-11 1L8.5 8.5l.94-2.06 2.06-.94-2.06-.94L8.5 2.5l-.94 2.06-2.06.94zm10 10l.94 2.06.94-2.06 2.06-.94-2.06-.94-.94-2.06-.94 2.06-2.06.94z\"/><path d=\"M17.41 7.96l-1.37-1.37c-.4-.4-.92-.59-1.43-.59-.52 0-1.04.2-1.43.59L10.3 9.45l-7.72 7.72c-.78.78-.78 2.05 0 2.83L4 21.41c.39.39.9.59 1.41.59.51 0 1.02-.2 1.41-.59l7.78-7.78 2.81-2.81c.8-.78.8-2.07 0-2.86zM5.41 20L4 18.59l7.72-7.72 1.47 1.35L5.41 20z\"/>\n",
              "  </svg>\n",
              "      </button>\n",
              "      \n",
              "  <style>\n",
              "    .colab-df-container {\n",
              "      display:flex;\n",
              "      flex-wrap:wrap;\n",
              "      gap: 12px;\n",
              "    }\n",
              "\n",
              "    .colab-df-convert {\n",
              "      background-color: #E8F0FE;\n",
              "      border: none;\n",
              "      border-radius: 50%;\n",
              "      cursor: pointer;\n",
              "      display: none;\n",
              "      fill: #1967D2;\n",
              "      height: 32px;\n",
              "      padding: 0 0 0 0;\n",
              "      width: 32px;\n",
              "    }\n",
              "\n",
              "    .colab-df-convert:hover {\n",
              "      background-color: #E2EBFA;\n",
              "      box-shadow: 0px 1px 2px rgba(60, 64, 67, 0.3), 0px 1px 3px 1px rgba(60, 64, 67, 0.15);\n",
              "      fill: #174EA6;\n",
              "    }\n",
              "\n",
              "    [theme=dark] .colab-df-convert {\n",
              "      background-color: #3B4455;\n",
              "      fill: #D2E3FC;\n",
              "    }\n",
              "\n",
              "    [theme=dark] .colab-df-convert:hover {\n",
              "      background-color: #434B5C;\n",
              "      box-shadow: 0px 1px 3px 1px rgba(0, 0, 0, 0.15);\n",
              "      filter: drop-shadow(0px 1px 2px rgba(0, 0, 0, 0.3));\n",
              "      fill: #FFFFFF;\n",
              "    }\n",
              "  </style>\n",
              "\n",
              "      <script>\n",
              "        const buttonEl =\n",
              "          document.querySelector('#df-d317f36d-7ee1-4c45-b79e-f6c67aef7eca button.colab-df-convert');\n",
              "        buttonEl.style.display =\n",
              "          google.colab.kernel.accessAllowed ? 'block' : 'none';\n",
              "\n",
              "        async function convertToInteractive(key) {\n",
              "          const element = document.querySelector('#df-d317f36d-7ee1-4c45-b79e-f6c67aef7eca');\n",
              "          const dataTable =\n",
              "            await google.colab.kernel.invokeFunction('convertToInteractive',\n",
              "                                                     [key], {});\n",
              "          if (!dataTable) return;\n",
              "\n",
              "          const docLinkHtml = 'Like what you see? Visit the ' +\n",
              "            '<a target=\"_blank\" href=https://colab.research.google.com/notebooks/data_table.ipynb>data table notebook</a>'\n",
              "            + ' to learn more about interactive tables.';\n",
              "          element.innerHTML = '';\n",
              "          dataTable['output_type'] = 'display_data';\n",
              "          await google.colab.output.renderOutput(dataTable, element);\n",
              "          const docLink = document.createElement('div');\n",
              "          docLink.innerHTML = docLinkHtml;\n",
              "          element.appendChild(docLink);\n",
              "        }\n",
              "      </script>\n",
              "    </div>\n",
              "  </div>\n",
              "  "
            ]
          },
          "metadata": {},
          "execution_count": 9
        }
      ]
    },
    {
      "cell_type": "code",
      "source": [
        "article_text = Extracted_data[\"article_text\"]\n",
        "article_title = Extracted_data[\"article_title\"]"
      ],
      "metadata": {
        "id": "WGk4BefMFdvL"
      },
      "execution_count": null,
      "outputs": []
    },
    {
      "cell_type": "code",
      "source": [
        "article_title"
      ],
      "metadata": {
        "colab": {
          "base_uri": "https://localhost:8080/"
        },
        "id": "HhP_eJpqFqn0",
        "outputId": "211c09cb-3951-4c99-f912-8e4d522843d4"
      },
      "execution_count": null,
      "outputs": [
        {
          "output_type": "execute_result",
          "data": {
            "text/plain": [
              "0      AI in healthcare to Improve Patient Outcomes -...\n",
              "1      Will Machine Replace The Human in the Future o...\n",
              "2      What Jobs Will Robots Take From Humans in The ...\n",
              "3      Will machine replace the human in the future o...\n",
              "4      How humans and machines are evolving to work t...\n",
              "                             ...                        \n",
              "106       Blockchain for Payments - Blackcoffer Insights\n",
              "107    Challenges and Opportunities of Big Data in He...\n",
              "108    Business Analytics In The Healthcare Industry ...\n",
              "109       The future of Investing - Blackcoffer Insights\n",
              "110         Blockchain in Fintech - Blackcoffer Insights\n",
              "Name: article_title, Length: 111, dtype: object"
            ]
          },
          "metadata": {},
          "execution_count": 11
        }
      ]
    },
    {
      "cell_type": "code",
      "source": [
        "article_text"
      ],
      "metadata": {
        "colab": {
          "base_uri": "https://localhost:8080/"
        },
        "id": "rTM6MoUYFsko",
        "outputId": "dfec0601-a2b6-40a1-a8cf-61112ef4bc4c"
      },
      "execution_count": null,
      "outputs": [
        {
          "output_type": "execute_result",
          "data": {
            "text/plain": [
              "0      âIf anything kills over 10 million people in...\n",
              "1      âAnything that could give rise to smarter-th...\n",
              "2      AI is rapidly evolving in the employment secto...\n",
              "3      Where is this disruptive technology taking us?...\n",
              "4      In future or in upcoming years humans and mach...\n",
              "                             ...                        \n",
              "106    between having a tight budget and being seriou...\n",
              "107    To begin with I shall first like to explain wh...\n",
              "108    Analytics is a statistical scientific process ...\n",
              "109    An investment is a resource or thing procured ...\n",
              "110    Blockchain or the Distributed Ledger Technolog...\n",
              "Name: article_text, Length: 111, dtype: object"
            ]
          },
          "metadata": {},
          "execution_count": 12
        }
      ]
    },
    {
      "cell_type": "markdown",
      "source": [
        "#Removing Stop Words From Extracted Data"
      ],
      "metadata": {
        "id": "a62lbHbO4dgg"
      }
    },
    {
      "cell_type": "code",
      "source": [
        "tokens=[]\n",
        "for w in article_title:\n",
        "  tokens.append(word_tokenize(w))\n",
        "\n",
        "tokens"
      ],
      "metadata": {
        "id": "BFrGo5ZH4odt"
      },
      "execution_count": null,
      "outputs": []
    },
    {
      "cell_type": "code",
      "source": [
        "#flat_list_title = []\n",
        "#for sublist in tokens:\n",
        "#    for item in sublist:\n",
        "#        flat_list_title.append(item) # converting list of lists into single list "
      ],
      "metadata": {
        "id": "_89R66mTHmS4"
      },
      "execution_count": null,
      "outputs": []
    },
    {
      "cell_type": "code",
      "source": [
        "#flat_list_title"
      ],
      "metadata": {
        "id": "CxVSG5QrIA8l"
      },
      "execution_count": null,
      "outputs": []
    },
    {
      "cell_type": "code",
      "source": [
        "def remove_stop_words(l):\n",
        "  for word in l:\n",
        "    if word in final_s_words:\n",
        "      l.remove(word)\n",
        "  return l "
      ],
      "metadata": {
        "id": "6DFqpQKeLHRE"
      },
      "execution_count": null,
      "outputs": []
    },
    {
      "cell_type": "code",
      "source": [
        "filtered_title =[]\n",
        "for sublist in tokens:\n",
        "  filtered_sublist =remove_stop_words(sublist)\n",
        "  filtered_title.append(filtered_sublist)"
      ],
      "metadata": {
        "id": "Pdm3B7brHN3C"
      },
      "execution_count": null,
      "outputs": []
    },
    {
      "cell_type": "code",
      "source": [
        "filtered_title"
      ],
      "metadata": {
        "id": "7TRbWjaXI3qi"
      },
      "execution_count": null,
      "outputs": []
    },
    {
      "cell_type": "code",
      "source": [
        "tokens_text=[]\n",
        "for w in article_text:\n",
        "  tokens_text.append(word_tokenize(w))\n",
        "\n",
        "tokens_text"
      ],
      "metadata": {
        "id": "qEu3yk7iJgG2"
      },
      "execution_count": null,
      "outputs": []
    },
    {
      "cell_type": "code",
      "source": [
        "filtered_text =[]\n",
        "for sublist in tokens_text:\n",
        "  filtered_sublist =remove_stop_words(sublist)\n",
        "  filtered_text.append(filtered_sublist)"
      ],
      "metadata": {
        "id": "ucD1NpS_IgXS"
      },
      "execution_count": null,
      "outputs": []
    },
    {
      "cell_type": "code",
      "source": [
        "filtered_text"
      ],
      "metadata": {
        "id": "ieAnNdG4NJt_"
      },
      "execution_count": null,
      "outputs": []
    },
    {
      "cell_type": "markdown",
      "source": [
        "#Calculating scores from Filtered Data"
      ],
      "metadata": {
        "id": "tOKxGKoxOQWV"
      }
    },
    {
      "cell_type": "code",
      "source": [
        "positive_file=open(\"/content/positive-words.txt\",\"r\")\n",
        "p_words=positive_file.read()\n",
        "p_words"
      ],
      "metadata": {
        "id": "YSUXquHBPJfb"
      },
      "execution_count": null,
      "outputs": []
    },
    {
      "cell_type": "code",
      "source": [
        "positive_words=word_tokenize(p_words)\n",
        "positive_words"
      ],
      "metadata": {
        "id": "dYdVUbEyRB7V"
      },
      "execution_count": null,
      "outputs": []
    },
    {
      "cell_type": "code",
      "source": [
        "negative_file=open(\"/content/negative-words.txt\",\"r\",encoding = \"ISO-8859-1\")\n",
        "n_words=negative_file.read()\n",
        "n_words"
      ],
      "metadata": {
        "id": "OJxumdZERWdz"
      },
      "execution_count": null,
      "outputs": []
    },
    {
      "cell_type": "code",
      "source": [
        "negative_words=word_tokenize(n_words)\n",
        "negative_words"
      ],
      "metadata": {
        "id": "7a9epNg1RbR5"
      },
      "execution_count": null,
      "outputs": []
    },
    {
      "cell_type": "markdown",
      "source": [
        "#Filtering Positive and Negative Words"
      ],
      "metadata": {
        "id": "TYtVGe06SjZu"
      }
    },
    {
      "cell_type": "code",
      "source": [
        "filtered_pos=remove_stop_words(positive_words)"
      ],
      "metadata": {
        "id": "hOr3DOcKR6go"
      },
      "execution_count": null,
      "outputs": []
    },
    {
      "cell_type": "code",
      "source": [
        "filtered_neg=remove_stop_words(negative_words)"
      ],
      "metadata": {
        "id": "VH7OO-9HScEZ"
      },
      "execution_count": null,
      "outputs": []
    },
    {
      "cell_type": "markdown",
      "source": [
        "#1.3 .Calculating Scores"
      ],
      "metadata": {
        "id": "-sLjcvS2Vq8z"
      }
    },
    {
      "cell_type": "code",
      "source": [
        "pos_count_l=[]\n",
        "for sublist in tokens_text:\n",
        "  count=0\n",
        "  for word in sublist:\n",
        "    if word in filtered_pos:\n",
        "      count = count +1\n",
        "  pos_count_l.append(count)"
      ],
      "metadata": {
        "id": "Q4dDZt2TSr6d"
      },
      "execution_count": null,
      "outputs": []
    },
    {
      "cell_type": "code",
      "source": [
        "pos_count_l"
      ],
      "metadata": {
        "id": "FodlIhT9XpCe"
      },
      "execution_count": null,
      "outputs": []
    },
    {
      "cell_type": "code",
      "source": [
        "len(pos_count_l)"
      ],
      "metadata": {
        "colab": {
          "base_uri": "https://localhost:8080/"
        },
        "id": "O-rszNcRUI15",
        "outputId": "b64a1e94-8750-4984-ca36-62279f473293"
      },
      "execution_count": null,
      "outputs": [
        {
          "output_type": "execute_result",
          "data": {
            "text/plain": [
              "111"
            ]
          },
          "metadata": {},
          "execution_count": 30
        }
      ]
    },
    {
      "cell_type": "code",
      "source": [
        "neg_count_l=[]\n",
        "for sublist in tokens_text:\n",
        "  count_neg=0\n",
        "  for word in sublist:\n",
        "    if word in filtered_neg:\n",
        "      count_neg = count_neg-1\n",
        "  neg_count_l.append(count_neg)"
      ],
      "metadata": {
        "id": "x6Am-tCQVyi9"
      },
      "execution_count": null,
      "outputs": []
    },
    {
      "cell_type": "code",
      "source": [
        "final_neg=[]                   # Removing Negative Values by multiplying with -1\n",
        "for value in neg_count_l:\n",
        "  if value<0:\n",
        "    value= value * -1\n",
        "    final_neg.append(value)\n",
        "  else:                                  \n",
        "    final_neg.append(value)"
      ],
      "metadata": {
        "id": "SaowdunDWCEm"
      },
      "execution_count": null,
      "outputs": []
    },
    {
      "cell_type": "code",
      "source": [
        "final_neg"
      ],
      "metadata": {
        "id": "LCFhMx3vXrYm"
      },
      "execution_count": null,
      "outputs": []
    },
    {
      "cell_type": "code",
      "source": [
        "len(final_neg)"
      ],
      "metadata": {
        "colab": {
          "base_uri": "https://localhost:8080/"
        },
        "id": "AWDuQoJTV8Q3",
        "outputId": "e727f9ae-f1ca-495c-c8f0-bf901f0e02af"
      },
      "execution_count": null,
      "outputs": [
        {
          "output_type": "execute_result",
          "data": {
            "text/plain": [
              "111"
            ]
          },
          "metadata": {},
          "execution_count": 34
        }
      ]
    },
    {
      "cell_type": "code",
      "source": [
        "def cal_polarity_score(Positive_Score,Negative_Score):\n",
        "  Polarity_Score = (Positive_Score - Negative_Score) / ((Positive_Score + Negative_Score) + 0.000001)\n",
        "  return Polarity_Score"
      ],
      "metadata": {
        "id": "pXOy6arOWKDv"
      },
      "execution_count": null,
      "outputs": []
    },
    {
      "cell_type": "code",
      "source": [
        "pol_scores=[]\n",
        "for i in range(111):\n",
        "  pol_scores.append(cal_polarity_score(pos_count_l[i],final_neg[i]))\n",
        "pol_scores"
      ],
      "metadata": {
        "id": "o4NA9WafbN0R"
      },
      "execution_count": null,
      "outputs": []
    },
    {
      "cell_type": "code",
      "source": [
        "len(pol_scores)"
      ],
      "metadata": {
        "colab": {
          "base_uri": "https://localhost:8080/"
        },
        "id": "30SJPRKLcRvy",
        "outputId": "92dc1ece-f190-41ea-f7c6-029b8df4d4f3"
      },
      "execution_count": null,
      "outputs": [
        {
          "output_type": "execute_result",
          "data": {
            "text/plain": [
              "111"
            ]
          },
          "metadata": {},
          "execution_count": 37
        }
      ]
    },
    {
      "cell_type": "markdown",
      "source": [
        "#5.Cleaning of Words using StopWords"
      ],
      "metadata": {
        "id": "9y4J6cYccWr7"
      }
    },
    {
      "cell_type": "code",
      "source": [
        "import nltk\n",
        "nltk.download('stopwords')"
      ],
      "metadata": {
        "colab": {
          "base_uri": "https://localhost:8080/"
        },
        "id": "l8VQ7N7BdvqR",
        "outputId": "10498755-17d6-46d8-cc18-ab33e05dacfe"
      },
      "execution_count": null,
      "outputs": [
        {
          "output_type": "stream",
          "name": "stderr",
          "text": [
            "[nltk_data] Downloading package stopwords to /root/nltk_data...\n",
            "[nltk_data]   Unzipping corpora/stopwords.zip.\n"
          ]
        },
        {
          "output_type": "execute_result",
          "data": {
            "text/plain": [
              "True"
            ]
          },
          "metadata": {},
          "execution_count": 38
        }
      ]
    },
    {
      "cell_type": "code",
      "source": [
        "from nltk.corpus import stopwords\n",
        "stop_wordds=list(stopwords.words(\"english\"))"
      ],
      "metadata": {
        "id": "bkdyXx8pdAZ8"
      },
      "execution_count": null,
      "outputs": []
    },
    {
      "cell_type": "code",
      "source": [
        "def remove_package_stop_words(l):\n",
        "   for word in l:\n",
        "    if word in stop_wordds:\n",
        "      l.remove(word)\n",
        "   return l "
      ],
      "metadata": {
        "id": "Ja_uMGN4d10o"
      },
      "execution_count": null,
      "outputs": []
    },
    {
      "cell_type": "code",
      "source": [
        "filtered_text_package =[]\n",
        "for sublist in tokens_text:\n",
        "  filtered_sublist_package =remove_package_stop_words(sublist)\n",
        "  filtered_text_package.append(filtered_sublist_package)"
      ],
      "metadata": {
        "id": "O3tlX__jeTu3"
      },
      "execution_count": null,
      "outputs": []
    },
    {
      "cell_type": "markdown",
      "source": [
        "#Removing Punctuation"
      ],
      "metadata": {
        "id": "lI8p-u04ieXz"
      }
    },
    {
      "cell_type": "code",
      "source": [
        "import string\n",
        "regular_punct = list(string.punctuation)\n",
        "def remove_punctuation(l):\n",
        "    for symbol in l:\n",
        "      if symbol in regular_punct:\n",
        "        l.remove(symbol)\n",
        "    return l \n",
        "\n",
        "remove_punctuation([\"Good\",\"Morning\",\"!\",\"How\",\"are\",\"you\",\"?\"])"
      ],
      "metadata": {
        "colab": {
          "base_uri": "https://localhost:8080/"
        },
        "id": "3EfJinY7jHtD",
        "outputId": "9f851700-6771-4bb4-81ad-9da8c37c1658"
      },
      "execution_count": null,
      "outputs": [
        {
          "output_type": "execute_result",
          "data": {
            "text/plain": [
              "['Good', 'Morning', 'How', 'are', 'you']"
            ]
          },
          "metadata": {},
          "execution_count": 42
        }
      ]
    },
    {
      "cell_type": "code",
      "source": [
        "cleaned_words=[]\n",
        "for sublist in filtered_text_package:\n",
        "  cw =remove_punctuation(sublist)\n",
        "  cleaned_words.append(cw)"
      ],
      "metadata": {
        "id": "qNN1ob6-k4Rn"
      },
      "execution_count": null,
      "outputs": []
    },
    {
      "cell_type": "code",
      "source": [
        "cleaned_words"
      ],
      "metadata": {
        "id": "CWkczjjjmOaN"
      },
      "execution_count": null,
      "outputs": []
    },
    {
      "cell_type": "code",
      "source": [
        "cleaned_words_count=[]\n",
        "for sublist in cleaned_words:\n",
        "  cleaned_words_count.append(len(sublist))\n",
        "\n",
        "word_count=cleaned_words_count"
      ],
      "metadata": {
        "id": "S5l8cqxNme38"
      },
      "execution_count": null,
      "outputs": []
    },
    {
      "cell_type": "markdown",
      "source": [
        "# 1.3 Subjectivity Score"
      ],
      "metadata": {
        "id": "LwKKC4WmnCgo"
      }
    },
    {
      "cell_type": "code",
      "source": [
        "def cal_subjectivity_score(pos_score,neg_score,wc):\n",
        "  Subjectivity_Score = (pos_score + neg_score)/ ((wc) + 0.000001)\n",
        "  return Subjectivity_Score"
      ],
      "metadata": {
        "id": "JxVNpg1cnOmi"
      },
      "execution_count": null,
      "outputs": []
    },
    {
      "cell_type": "code",
      "source": [
        "sub_scores=[]\n",
        "for i in range(111):\n",
        "  sub_scores.append(cal_subjectivity_score(pos_count_l[i],final_neg[i],word_count[i]))\n",
        "sub_scores"
      ],
      "metadata": {
        "colab": {
          "base_uri": "https://localhost:8080/"
        },
        "id": "A_1a9nlrnqBj",
        "outputId": "8fd593f7-33f6-4881-bf4a-97a611ca38f1"
      },
      "execution_count": null,
      "outputs": [
        {
          "output_type": "execute_result",
          "data": {
            "text/plain": [
              "[0.08242753615722143,\n",
              " 0.08982035917386784,\n",
              " 0.09809809799990181,\n",
              " 0.09142857129795919,\n",
              " 0.08314087740614116,\n",
              " 0.12090680070300554,\n",
              " 0.07822085877573488,\n",
              " 0.09190172876078095,\n",
              " 0.11848958317905002,\n",
              " 0.06802721079179971,\n",
              " 0.06843718072682617,\n",
              " 0.08417508389166639,\n",
              " 0.08975834281961065,\n",
              " 0.043956043714527236,\n",
              " 0.09608540913868872,\n",
              " 0.1272321427151427,\n",
              " 0.07881773379601544,\n",
              " 0.031578947036011086,\n",
              " 0.08607594929445067,\n",
              " 0.11586901748631107,\n",
              " 0.0878906249141693,\n",
              " 0.1166666663425926,\n",
              " 0.05676855882801625,\n",
              " 0.04651162736614387,\n",
              " 0.1134020612711234,\n",
              " 0.12866817126711474,\n",
              " 0.11111110987654323,\n",
              " 0.0754716978284087,\n",
              " 0.0,\n",
              " 0.08974358859303092,\n",
              " 0.10218978077326088,\n",
              " 0.07715736032775902,\n",
              " 0.1808510628678135,\n",
              " 0.06877729250133484,\n",
              " 0.06524822685780393,\n",
              " 0.062427745592569084,\n",
              " 0.1579961461310286,\n",
              " 0.1446808504481666,\n",
              " 0.06349206334809056,\n",
              " 0.019900497413430362,\n",
              " 0.11249999979910714,\n",
              " 0.06984667790486085,\n",
              " 0.06572769942765619,\n",
              " 0.16333938264366718,\n",
              " 0.08848758461016362,\n",
              " 0.09534883698756084,\n",
              " 0.08588957002521737,\n",
              " 0.07671232855695252,\n",
              " 0.09863945567047681,\n",
              " 0.07853403133137798,\n",
              " 0.07081807073160187,\n",
              " 0.05714285632653063,\n",
              " 0.07165775393405588,\n",
              " 0.06355932189923873,\n",
              " 0.12560386453203887,\n",
              " 0.056310679556979916,\n",
              " 0.07952622659978642,\n",
              " 0.06614173217930436,\n",
              " 0.060409924422427264,\n",
              " 0.07446808431416932,\n",
              " 0.11183144228228291,\n",
              " 0.0701468188088959,\n",
              " 0.107999999784,\n",
              " 0.0735785950716435,\n",
              " 0.012499999843750002,\n",
              " 0.04658385078700668,\n",
              " 0.11933534725175929,\n",
              " 0.0671031095464761,\n",
              " 0.09734513257107057,\n",
              " 0.13636363597623968,\n",
              " 0.06761565824267676,\n",
              " 0.11833333313611111,\n",
              " 0.14638783242131592,\n",
              " 0.10643889604935756,\n",
              " 0.10820895502199822,\n",
              " 0.08428245994468687,\n",
              " 0.060671722577820456,\n",
              " 0.1028446387246288,\n",
              " 0.09249743053186286,\n",
              " 0.12010443848550334,\n",
              " 0.09927140245967996,\n",
              " 0.11231884037623399,\n",
              " 0.12803889768551233,\n",
              " 0.11282051224194609,\n",
              " 0.09696969687174778,\n",
              " 0.1504065038612378,\n",
              " 0.14285714192949908,\n",
              " 0.041811846544209594,\n",
              " 0.07484407468847386,\n",
              " 0.09219330848164066,\n",
              " 0.07108081784704885,\n",
              " 0.06916099765401247,\n",
              " 0.05655526985018603,\n",
              " 0.11023622018310704,\n",
              " 0.11178247722881926,\n",
              " 0.08947368373961219,\n",
              " 0.07831325254028161,\n",
              " 0.09561752949953176,\n",
              " 0.09195402193156296,\n",
              " 0.06341463383700179,\n",
              " 0.08430232533633045,\n",
              " 0.10791366828839087,\n",
              " 0.09661835739457163,\n",
              " 0.059405940005881785,\n",
              " 0.1195652171747007,\n",
              " 0.1016949150975425,\n",
              " 0.09143968853805508,\n",
              " 0.12695652151833647,\n",
              " 0.0858895702886823,\n",
              " 0.07241910620582573,\n",
              " 0.05641025626561473]"
            ]
          },
          "metadata": {},
          "execution_count": 47
        }
      ]
    },
    {
      "cell_type": "markdown",
      "source": [
        "#2. Analysis of Readability"
      ],
      "metadata": {
        "id": "yaneKIEkoA7t"
      }
    },
    {
      "cell_type": "code",
      "source": [
        "def cal_avg_sen_len(no_words,no_sent):\n",
        "  Average_Sentence_Length = no_words / no_sent\n",
        "  return Average_Sentence_Length"
      ],
      "metadata": {
        "id": "NCzeWAcgQ2mt"
      },
      "execution_count": null,
      "outputs": []
    },
    {
      "cell_type": "code",
      "source": [
        "def cal_percent_complex_words(no_complex,no_words):\n",
        "  Percentage_of_Complex_words = (no_complex / no_words) * 100\n",
        "  return Percentage_of_Complex_words "
      ],
      "metadata": {
        "id": "IkQ6nfuURVsO"
      },
      "execution_count": null,
      "outputs": []
    },
    {
      "cell_type": "code",
      "source": [
        "def cal_fog_index(avg_sen_len,percent_complex_words):\n",
        "  Fog_Index = 0.4 * (avg_sen_len + percent_complex_words)\n",
        "  return Fog_Index"
      ],
      "metadata": {
        "id": "yq80tfWpRn7Q"
      },
      "execution_count": null,
      "outputs": []
    },
    {
      "cell_type": "code",
      "source": [
        "avg_sen_len=[]\n",
        "from nltk.text import sent_tokenize\n",
        "for sublist in article_text:\n",
        "  avg_len=cal_avg_sen_len(len(word_tokenize(sublist)),len(sent_tokenize(sublist)))\n",
        "  avg_sen_len.append(avg_len)"
      ],
      "metadata": {
        "id": "HQaLuc53SBin"
      },
      "execution_count": null,
      "outputs": []
    },
    {
      "cell_type": "code",
      "source": [
        "avg_sen_len"
      ],
      "metadata": {
        "colab": {
          "base_uri": "https://localhost:8080/"
        },
        "id": "uMActq9FSM8O",
        "outputId": "79529355-9272-42f8-baf2-0c4a1a33bf68"
      },
      "execution_count": null,
      "outputs": [
        {
          "output_type": "execute_result",
          "data": {
            "text/plain": [
              "[38.76,\n",
              " 22.546666666666667,\n",
              " 29.523809523809526,\n",
              " 32.833333333333336,\n",
              " 21.3,\n",
              " 26.379310344827587,\n",
              " 31.512820512820515,\n",
              " 24.848837209302324,\n",
              " 24.859375,\n",
              " 21.328125,\n",
              " 34.592592592592595,\n",
              " 34.875,\n",
              " 32.51923076923077,\n",
              " 35.2,\n",
              " 55.3125,\n",
              " 260.14285714285717,\n",
              " 34.52173913043478,\n",
              " 189.0,\n",
              " 35.93846153846154,\n",
              " 37.575,\n",
              " 24.823529411764707,\n",
              " 30.82608695652174,\n",
              " 53.4375,\n",
              " 22.857142857142858,\n",
              " 18.59090909090909,\n",
              " 16.30909090909091,\n",
              " 44.25,\n",
              " 47.63636363636363,\n",
              " 5.0,\n",
              " 33.4,\n",
              " 39.1578947368421,\n",
              " 39.06122448979592,\n",
              " 23.823529411764707,\n",
              " 47.87179487179487,\n",
              " 25.866666666666667,\n",
              " 39.75609756097561,\n",
              " 18.32758620689655,\n",
              " 35.92857142857143,\n",
              " 18.423076923076923,\n",
              " 31.5,\n",
              " 21.5,\n",
              " 40.96296296296296,\n",
              " 32.23684210526316,\n",
              " 18.683333333333334,\n",
              " 170.72727272727272,\n",
              " 45.0,\n",
              " 32.1,\n",
              " 37.68421052631579,\n",
              " 34.0,\n",
              " 30.80327868852459,\n",
              " 23.536231884057973,\n",
              " 37.25,\n",
              " 19.300970873786408,\n",
              " 32.51724137931034,\n",
              " 20.2,\n",
              " 50.67567567567568,\n",
              " 38.63333333333333,\n",
              " 39.15151515151515,\n",
              " 27.630769230769232,\n",
              " 33.166666666666664,\n",
              " 27.295454545454547,\n",
              " 47.40909090909091,\n",
              " 32.766666666666666,\n",
              " 38.86666666666667,\n",
              " 49.666666666666664,\n",
              " 31.789473684210527,\n",
              " 27.25,\n",
              " 48.73913043478261,\n",
              " 31.6,\n",
              " 48.5625,\n",
              " 30.10810810810811,\n",
              " 27.48780487804878,\n",
              " 56.0,\n",
              " 25.75409836065574,\n",
              " 46.92,\n",
              " 29.482758620689655,\n",
              " 40.875,\n",
              " 100.22222222222223,\n",
              " 45.425,\n",
              " 30.178571428571427,\n",
              " 58.5,\n",
              " 31.941176470588236,\n",
              " 20.467741935483872,\n",
              " 35.7,\n",
              " 30.370967741935484,\n",
              " 32.25581395348837,\n",
              " 27.25,\n",
              " 36.42857142857143,\n",
              " 33.142857142857146,\n",
              " 30.81578947368421,\n",
              " 38.55769230769231,\n",
              " 154.0,\n",
              " 28.660377358490567,\n",
              " 29.375,\n",
              " 31.53448275862069,\n",
              " 30.25,\n",
              " 29.333333333333332,\n",
              " 46.90909090909091,\n",
              " 43.25,\n",
              " 40.0,\n",
              " 24.40740740740741,\n",
              " 71.0,\n",
              " 36.698113207547166,\n",
              " 31.166666666666668,\n",
              " 30.11764705882353,\n",
              " 21.446428571428573,\n",
              " 25.594594594594593,\n",
              " 17.885245901639344,\n",
              " 50.666666666666664,\n",
              " 30.0,\n",
              " 28.925925925925927]"
            ]
          },
          "metadata": {},
          "execution_count": 52
        }
      ]
    },
    {
      "cell_type": "markdown",
      "source": [
        "#Calculating Number of Syllables"
      ],
      "metadata": {
        "id": "quJIyDX9U8J-"
      }
    },
    {
      "cell_type": "code",
      "source": [
        "import nltk\n",
        "nltk.download('cmudict')"
      ],
      "metadata": {
        "colab": {
          "base_uri": "https://localhost:8080/"
        },
        "id": "nF3ovHgrVS1u",
        "outputId": "b2a97786-c1a3-470d-d68d-b6fb24d50b91"
      },
      "execution_count": null,
      "outputs": [
        {
          "output_type": "stream",
          "name": "stderr",
          "text": [
            "[nltk_data] Downloading package cmudict to /root/nltk_data...\n",
            "[nltk_data]   Unzipping corpora/cmudict.zip.\n"
          ]
        },
        {
          "output_type": "execute_result",
          "data": {
            "text/plain": [
              "True"
            ]
          },
          "metadata": {},
          "execution_count": 53
        }
      ]
    },
    {
      "cell_type": "code",
      "source": [
        "import curses\n",
        "from curses.ascii import isdigit\n",
        "import nltk\n",
        "from nltk.corpus import cmudict\n",
        "\n",
        "d = cmudict.dict()\n",
        "\n",
        "def nsyl(word):\n",
        "  return [len(list(y for y in x if isdigit(y[-1]))) for x in d[word.lower()]]\n"
      ],
      "metadata": {
        "id": "mthUDujoVIsd"
      },
      "execution_count": null,
      "outputs": []
    },
    {
      "cell_type": "code",
      "source": [
        "nsyl(\"charger\")"
      ],
      "metadata": {
        "colab": {
          "base_uri": "https://localhost:8080/"
        },
        "id": "C0uWsM16VQUR",
        "outputId": "aa325d4f-f482-4d25-d837-695104ca2ce2"
      },
      "execution_count": null,
      "outputs": [
        {
          "output_type": "execute_result",
          "data": {
            "text/plain": [
              "[2]"
            ]
          },
          "metadata": {},
          "execution_count": 55
        }
      ]
    },
    {
      "cell_type": "code",
      "source": [
        "def convert(list):\n",
        "     \n",
        "    # Converting integer list to string list\n",
        "    s = [str(i) for i in list]\n",
        "     \n",
        "    # Join list items using join()\n",
        "    res = int(\"\".join(s))\n",
        "     \n",
        "    return(res)"
      ],
      "metadata": {
        "id": "nWbVf3YLYfNU"
      },
      "execution_count": null,
      "outputs": []
    },
    {
      "cell_type": "markdown",
      "source": [
        "#4.Complex Word Count"
      ],
      "metadata": {
        "id": "cIEsdoR2jvvV"
      }
    },
    {
      "cell_type": "code",
      "source": [
        "complex_words=[]\n",
        "for sublist in tokens_text:\n",
        "  sublist_cw=[]\n",
        "  for word in sublist:\n",
        "    try :\n",
        "      if convert(nsyl(word)) > 2 :\n",
        "        sublist_cw.append(word)\n",
        "    except KeyError:\n",
        "        pass\n",
        "  complex_words.append(sublist_cw)"
      ],
      "metadata": {
        "id": "Bhrwknu4V_fP"
      },
      "execution_count": null,
      "outputs": []
    },
    {
      "cell_type": "code",
      "source": [
        "complex_words"
      ],
      "metadata": {
        "id": "8kdbvPVOYlJP"
      },
      "execution_count": null,
      "outputs": []
    },
    {
      "cell_type": "code",
      "source": [
        "count_complex_words=[]\n",
        "for sublist in complex_words:\n",
        "  count_complex_words.append(len(sublist))\n",
        "    \n",
        "count_complex_words"
      ],
      "metadata": {
        "id": "2ZLyxDbrZi-W"
      },
      "execution_count": null,
      "outputs": []
    },
    {
      "cell_type": "code",
      "source": [
        "no_words_per_sublist=[]\n",
        "for sublist in tokens_text:\n",
        "  no_words_per_sublist.append(len(sublist))\n",
        "\n",
        "no_words_per_sublist"
      ],
      "metadata": {
        "id": "UuSosc1Wdokt"
      },
      "execution_count": null,
      "outputs": []
    },
    {
      "cell_type": "code",
      "source": [
        "percent_complex_words=[]\n",
        "for i in range(111):\n",
        "  percent_complex_words.append(cal_percent_complex_words(count_complex_words[i],no_words_per_sublist[i]))\n",
        "\n",
        "percent_complex_words"
      ],
      "metadata": {
        "colab": {
          "base_uri": "https://localhost:8080/"
        },
        "id": "HuOh3zCvZwaq",
        "outputId": "af975cdb-d1f2-4f78-c653-f8ae44090cbf"
      },
      "execution_count": null,
      "outputs": [
        {
          "output_type": "execute_result",
          "data": {
            "text/plain": [
              "[48.369565217391305,\n",
              " 49.82035928143713,\n",
              " 52.552552552552555,\n",
              " 47.85714285714286,\n",
              " 45.26558891454965,\n",
              " 42.56926952141058,\n",
              " 52.14723926380368,\n",
              " 40.400363967242946,\n",
              " 45.57291666666667,\n",
              " 44.625850340136054,\n",
              " 48.62104187946885,\n",
              " 51.178451178451176,\n",
              " 48.216340621403916,\n",
              " 51.098901098901095,\n",
              " 46.02609727164887,\n",
              " 44.754464285714285,\n",
              " 47.29064039408867,\n",
              " 51.578947368421055,\n",
              " 47.9324894514768,\n",
              " 44.83627204030227,\n",
              " 48.33984375,\n",
              " 50.55555555555556,\n",
              " 37.55458515283843,\n",
              " 44.18604651162791,\n",
              " 52.0618556701031,\n",
              " 36.794582392776526,\n",
              " 38.88888888888889,\n",
              " 48.679245283018865,\n",
              " 0.0,\n",
              " 53.84615384615385,\n",
              " 45.742092457420924,\n",
              " 48.629441624365484,\n",
              " 41.48936170212766,\n",
              " 38.209606986899566,\n",
              " 43.262411347517734,\n",
              " 48.323699421965316,\n",
              " 38.34296724470135,\n",
              " 47.23404255319149,\n",
              " 43.99092970521542,\n",
              " 31.8407960199005,\n",
              " 32.857142857142854,\n",
              " 41.737649063032364,\n",
              " 43.50547730829421,\n",
              " 39.01996370235935,\n",
              " 33.363431151241535,\n",
              " 42.093023255813954,\n",
              " 46.62576687116564,\n",
              " 48.76712328767123,\n",
              " 50.11337868480725,\n",
              " 43.1413612565445,\n",
              " 40.29304029304029,\n",
              " 41.42857142857143,\n",
              " 53.048128342245995,\n",
              " 36.228813559322035,\n",
              " 46.69887278582931,\n",
              " 45.728155339805824,\n",
              " 48.56175972927242,\n",
              " 40.15748031496063,\n",
              " 41.63969795037757,\n",
              " 41.48936170212766,\n",
              " 38.41166936790924,\n",
              " 38.825448613376835,\n",
              " 42.0,\n",
              " 37.45819397993311,\n",
              " 42.5,\n",
              " 30.745341614906835,\n",
              " 51.20845921450151,\n",
              " 40.91653027823241,\n",
              " 39.823008849557525,\n",
              " 32.67045454545455,\n",
              " 45.90747330960854,\n",
              " 38.0,\n",
              " 44.29657794676806,\n",
              " 39.42181340341656,\n",
              " 43.28358208955223,\n",
              " 45.558086560364465,\n",
              " 43.87865655471289,\n",
              " 28.88402625820569,\n",
              " 39.465570400822195,\n",
              " 36.29242819843342,\n",
              " 38.43351548269581,\n",
              " 40.76086956521739,\n",
              " 35.81847649918963,\n",
              " 50.76923076923077,\n",
              " 40.505050505050505,\n",
              " 41.05691056910569,\n",
              " 43.506493506493506,\n",
              " 38.67595818815331,\n",
              " 41.995841995842,\n",
              " 43.71747211895911,\n",
              " 45.08276533592989,\n",
              " 34.92063492063492,\n",
              " 42.41645244215938,\n",
              " 55.38057742782152,\n",
              " 43.101711983887206,\n",
              " 46.8421052631579,\n",
              " 24.69879518072289,\n",
              " 41.03585657370518,\n",
              " 35.63218390804598,\n",
              " 40.0,\n",
              " 38.662790697674424,\n",
              " 49.64028776978417,\n",
              " 47.632850241545896,\n",
              " 45.54455445544555,\n",
              " 43.65942028985507,\n",
              " 50.847457627118644,\n",
              " 40.46692607003891,\n",
              " 52.69565217391305,\n",
              " 56.13496932515337,\n",
              " 42.21879815100154,\n",
              " 40.0]"
            ]
          },
          "metadata": {},
          "execution_count": 61
        }
      ]
    },
    {
      "cell_type": "code",
      "source": [
        "fog_index=[]\n",
        "for i in range(111):\n",
        "  fog_index.append(cal_fog_index(avg_sen_len[i],percent_complex_words[i]))\n",
        "\n",
        "\n",
        "fog_index"
      ],
      "metadata": {
        "id": "acK8-EyebY8E"
      },
      "execution_count": null,
      "outputs": []
    },
    {
      "cell_type": "markdown",
      "source": [
        "#6.Syllable Count Per Word\n"
      ],
      "metadata": {
        "id": "smzPZQfMfaOW"
      }
    },
    {
      "cell_type": "code",
      "source": [
        "scpw=[]\n",
        "for sublist in tokens_text:\n",
        "  count_syllable=[]\n",
        "  for word in sublist:\n",
        "    try :\n",
        "        count_syllable.append(convert(nsyl(word)))\n",
        "    except KeyError:\n",
        "        pass\n",
        "  scpw.append(count_syllable)\n",
        "\n",
        "final_scpw =[]\n",
        "for sublist in scpw:\n",
        "  final_scpw.append(np.sum(sublist)) \n",
        "\n",
        "final_scpw"
      ],
      "metadata": {
        "id": "LOwV44KnfxlP"
      },
      "execution_count": null,
      "outputs": []
    },
    {
      "cell_type": "markdown",
      "source": [
        "# 3.Average Number of Words Per Sentence"
      ],
      "metadata": {
        "id": "Jts39mQZgrae"
      }
    },
    {
      "cell_type": "code",
      "source": [
        "def avg_no_words_per_sentence(no_words,no_sent):\n",
        "  Average_Number_of_Words_Per_Sentence = no_words / no_sent\n",
        "  return Average_Number_of_Words_Per_Sentence"
      ],
      "metadata": {
        "id": "3VuzFSLAgz_x"
      },
      "execution_count": null,
      "outputs": []
    },
    {
      "cell_type": "code",
      "source": [
        "sentences=[]                                            #sentence tokenizing\n",
        "for sublist in article_text:\n",
        "  sentences.append(sent_tokenize(sublist))\n",
        "  \n",
        "sentences                                             "
      ],
      "metadata": {
        "id": "5JFxgbhphciR"
      },
      "execution_count": null,
      "outputs": []
    },
    {
      "cell_type": "code",
      "source": [
        "count_sen=[]\n",
        "for sublist in sentences:\n",
        "  count_sen.append(len(sublist))\n",
        "\n",
        "count_sen"
      ],
      "metadata": {
        "id": "JmE6wIm5iThF"
      },
      "execution_count": null,
      "outputs": []
    },
    {
      "cell_type": "code",
      "source": [
        "avg_words_per_sentence=[]\n",
        "for i in range(111):\n",
        "  avg_words_per_sentence.append(avg_no_words_per_sentence(no_words_per_sublist[i],count_sen[i]))\n",
        "\n",
        "avg_words_per_sentence"
      ],
      "metadata": {
        "id": "9uQkwcrPiOFN"
      },
      "execution_count": null,
      "outputs": []
    },
    {
      "cell_type": "markdown",
      "source": [
        "#8.Average Word Length"
      ],
      "metadata": {
        "id": "_E1oIgbJjmmu"
      }
    },
    {
      "cell_type": "code",
      "source": [
        "def avg_word_length(sum_char,total_no_words):\n",
        "  avg_wl= sum_char / total_no_words\n",
        "  return avg_wl"
      ],
      "metadata": {
        "id": "V7_G0aphj-_c"
      },
      "execution_count": null,
      "outputs": []
    },
    {
      "cell_type": "code",
      "source": [
        "sum_char=[]\n",
        "for sublist in tokens_text:\n",
        "  len_word=[]\n",
        "  for word in sublist:\n",
        "    len_word.append(len(word))\n",
        "  sum_char.append(np.sum(len_word))\n",
        "\n",
        "sum_char"
      ],
      "metadata": {
        "id": "usjSzWTtkfxY"
      },
      "execution_count": null,
      "outputs": []
    },
    {
      "cell_type": "code",
      "source": [
        "avg_wl=[]\n",
        "for i in range(111):\n",
        "  avg_wl.append(avg_word_length(sum_char[i],no_words_per_sublist[i]))\n",
        "\n",
        "avg_wl"
      ],
      "metadata": {
        "id": "sSkAupvBl8JJ"
      },
      "execution_count": null,
      "outputs": []
    },
    {
      "cell_type": "markdown",
      "source": [
        "#7.Personal Pronouns"
      ],
      "metadata": {
        "id": "AvkBDFBFmC0j"
      }
    },
    {
      "cell_type": "code",
      "source": [
        "import re\n",
        "def find_pp(l):\n",
        "  pronounRegex = re.compile(r'\\b(I|we|my|ours|(?-i:us))\\b',re.I)\n",
        "  Something = str.join(\",\",l)\n",
        "  pronouns = pronounRegex.findall(Something)\n",
        "  return pronouns"
      ],
      "metadata": {
        "id": "u00YI-7gmm16"
      },
      "execution_count": null,
      "outputs": []
    },
    {
      "cell_type": "code",
      "source": [
        "prn=[]\n",
        "for sublist in tokens_text:\n",
        "  pronouns=find_pp(sublist)\n",
        "  prn.append(pronouns)\n",
        "prn"
      ],
      "metadata": {
        "id": "HvYZrlgmncY1"
      },
      "execution_count": null,
      "outputs": []
    },
    {
      "cell_type": "code",
      "source": [
        "pronoun_count=[]\n",
        "for sublist in prn:\n",
        "  pronoun_count.append(len(sublist))\n",
        "\n",
        "pronoun_count"
      ],
      "metadata": {
        "id": "CApZxFZApzr3"
      },
      "execution_count": null,
      "outputs": []
    },
    {
      "cell_type": "code",
      "source": [
        "# Create the pandas DataFrame with column name is provided explicitly\n",
        "final_df = pd.DataFrame({'POSITIVE SCORE': pos_count_l\n",
        "                         ,'NEGATIVE SCORE': final_neg\n",
        "                         ,'POLARITY SCORE': pol_scores\n",
        "                         ,'SUBJECTIVITY SCORE': sub_scores\n",
        "                         ,'AVG SENTENCE LENGTH': avg_sen_len\n",
        "                         ,'PERCENTAGE OF COMPLEX WORDS': percent_complex_words\n",
        "                         ,'FOG INDEX': fog_index\n",
        "                         ,'AVG NUMBER OF WORDS PER SENTENCE': avg_words_per_sentence\n",
        "                         ,'COMPLEX WORD COUNT': count_complex_words\n",
        "                         ,'WORD COUNT': word_count\n",
        "                        ,'SYLLABLE PER WORD': final_scpw\n",
        "                         ,'PERSONAL PRONOUNS': pronoun_count\n",
        "                         ,'AVG WORD LENGTH': avg_wl\n",
        "                         })\n",
        "final_df"
      ],
      "metadata": {
        "id": "4-tPyCZIqbLG",
        "colab": {
          "base_uri": "https://localhost:8080/",
          "height": 520
        },
        "outputId": "db00bdbd-cd27-4c25-d01b-9ad49f647614"
      },
      "execution_count": null,
      "outputs": [
        {
          "output_type": "execute_result",
          "data": {
            "text/plain": [
              "     POSITIVE SCORE  NEGATIVE SCORE  POLARITY SCORE  SUBJECTIVITY SCORE  \\\n",
              "0                60              31        0.318681            0.082428   \n",
              "1                54              21        0.440000            0.089820   \n",
              "2                64              34        0.306122            0.098098   \n",
              "3                41              23        0.281250            0.091429   \n",
              "4                24              12        0.333333            0.083141   \n",
              "..              ...             ...             ...                 ...   \n",
              "106              20              27       -0.148936            0.091440   \n",
              "107              35              38       -0.041096            0.126957   \n",
              "108              25               3        0.785714            0.085890   \n",
              "109              36              11        0.531915            0.072419   \n",
              "110              11              11        0.000000            0.056410   \n",
              "\n",
              "     AVG SENTENCE LENGTH  PERCENTAGE OF COMPLEX WORDS  FOG INDEX  \\\n",
              "0              38.760000                    48.369565  34.851826   \n",
              "1              22.546667                    49.820359  28.946810   \n",
              "2              29.523810                    52.552553  32.830545   \n",
              "3              32.833333                    47.857143  32.276190   \n",
              "4              21.300000                    45.265589  26.626236   \n",
              "..                   ...                          ...        ...   \n",
              "106            25.594595                    40.466926  26.424608   \n",
              "107            17.885246                    52.695652  28.232359   \n",
              "108            50.666667                    56.134969  42.720654   \n",
              "109            30.000000                    42.218798  28.887519   \n",
              "110            28.925926                    40.000000  27.570370   \n",
              "\n",
              "     AVG NUMBER OF WORDS PER SENTENCE  COMPLEX WORD COUNT  WORD COUNT  \\\n",
              "0                           22.080000                 534        1104   \n",
              "1                           11.133333                 416         835   \n",
              "2                           15.857143                 525         999   \n",
              "3                           16.666667                 335         700   \n",
              "4                           10.825000                 196         433   \n",
              "..                                ...                 ...         ...   \n",
              "106                         13.891892                 208         514   \n",
              "107                          9.426230                 303         575   \n",
              "108                         27.166667                 183         326   \n",
              "109                         16.225000                 274         649   \n",
              "110                         14.444444                 156         390   \n",
              "\n",
              "     SYLLABLE PER WORD  PERSONAL PRONOUNS  AVG WORD LENGTH  \n",
              "0              24608.0                  0         7.259964  \n",
              "1              29256.0                  0         6.231138  \n",
              "2              54833.0                  0         7.082082  \n",
              "3              26116.0                  7         6.525714  \n",
              "4               4021.0                  1         6.249423  \n",
              "..                 ...                ...              ...  \n",
              "106            19502.0                  5         7.066148  \n",
              "107            22854.0                  2         6.579130  \n",
              "108            10305.0                  0         7.447853  \n",
              "109            12237.0                  1         6.705701  \n",
              "110            11287.0                  0         6.979487  \n",
              "\n",
              "[111 rows x 13 columns]"
            ],
            "text/html": [
              "\n",
              "  <div id=\"df-377dcecd-da76-41c4-9d4e-f4573d9b0445\">\n",
              "    <div class=\"colab-df-container\">\n",
              "      <div>\n",
              "<style scoped>\n",
              "    .dataframe tbody tr th:only-of-type {\n",
              "        vertical-align: middle;\n",
              "    }\n",
              "\n",
              "    .dataframe tbody tr th {\n",
              "        vertical-align: top;\n",
              "    }\n",
              "\n",
              "    .dataframe thead th {\n",
              "        text-align: right;\n",
              "    }\n",
              "</style>\n",
              "<table border=\"1\" class=\"dataframe\">\n",
              "  <thead>\n",
              "    <tr style=\"text-align: right;\">\n",
              "      <th></th>\n",
              "      <th>POSITIVE SCORE</th>\n",
              "      <th>NEGATIVE SCORE</th>\n",
              "      <th>POLARITY SCORE</th>\n",
              "      <th>SUBJECTIVITY SCORE</th>\n",
              "      <th>AVG SENTENCE LENGTH</th>\n",
              "      <th>PERCENTAGE OF COMPLEX WORDS</th>\n",
              "      <th>FOG INDEX</th>\n",
              "      <th>AVG NUMBER OF WORDS PER SENTENCE</th>\n",
              "      <th>COMPLEX WORD COUNT</th>\n",
              "      <th>WORD COUNT</th>\n",
              "      <th>SYLLABLE PER WORD</th>\n",
              "      <th>PERSONAL PRONOUNS</th>\n",
              "      <th>AVG WORD LENGTH</th>\n",
              "    </tr>\n",
              "  </thead>\n",
              "  <tbody>\n",
              "    <tr>\n",
              "      <th>0</th>\n",
              "      <td>60</td>\n",
              "      <td>31</td>\n",
              "      <td>0.318681</td>\n",
              "      <td>0.082428</td>\n",
              "      <td>38.760000</td>\n",
              "      <td>48.369565</td>\n",
              "      <td>34.851826</td>\n",
              "      <td>22.080000</td>\n",
              "      <td>534</td>\n",
              "      <td>1104</td>\n",
              "      <td>24608.0</td>\n",
              "      <td>0</td>\n",
              "      <td>7.259964</td>\n",
              "    </tr>\n",
              "    <tr>\n",
              "      <th>1</th>\n",
              "      <td>54</td>\n",
              "      <td>21</td>\n",
              "      <td>0.440000</td>\n",
              "      <td>0.089820</td>\n",
              "      <td>22.546667</td>\n",
              "      <td>49.820359</td>\n",
              "      <td>28.946810</td>\n",
              "      <td>11.133333</td>\n",
              "      <td>416</td>\n",
              "      <td>835</td>\n",
              "      <td>29256.0</td>\n",
              "      <td>0</td>\n",
              "      <td>6.231138</td>\n",
              "    </tr>\n",
              "    <tr>\n",
              "      <th>2</th>\n",
              "      <td>64</td>\n",
              "      <td>34</td>\n",
              "      <td>0.306122</td>\n",
              "      <td>0.098098</td>\n",
              "      <td>29.523810</td>\n",
              "      <td>52.552553</td>\n",
              "      <td>32.830545</td>\n",
              "      <td>15.857143</td>\n",
              "      <td>525</td>\n",
              "      <td>999</td>\n",
              "      <td>54833.0</td>\n",
              "      <td>0</td>\n",
              "      <td>7.082082</td>\n",
              "    </tr>\n",
              "    <tr>\n",
              "      <th>3</th>\n",
              "      <td>41</td>\n",
              "      <td>23</td>\n",
              "      <td>0.281250</td>\n",
              "      <td>0.091429</td>\n",
              "      <td>32.833333</td>\n",
              "      <td>47.857143</td>\n",
              "      <td>32.276190</td>\n",
              "      <td>16.666667</td>\n",
              "      <td>335</td>\n",
              "      <td>700</td>\n",
              "      <td>26116.0</td>\n",
              "      <td>7</td>\n",
              "      <td>6.525714</td>\n",
              "    </tr>\n",
              "    <tr>\n",
              "      <th>4</th>\n",
              "      <td>24</td>\n",
              "      <td>12</td>\n",
              "      <td>0.333333</td>\n",
              "      <td>0.083141</td>\n",
              "      <td>21.300000</td>\n",
              "      <td>45.265589</td>\n",
              "      <td>26.626236</td>\n",
              "      <td>10.825000</td>\n",
              "      <td>196</td>\n",
              "      <td>433</td>\n",
              "      <td>4021.0</td>\n",
              "      <td>1</td>\n",
              "      <td>6.249423</td>\n",
              "    </tr>\n",
              "    <tr>\n",
              "      <th>...</th>\n",
              "      <td>...</td>\n",
              "      <td>...</td>\n",
              "      <td>...</td>\n",
              "      <td>...</td>\n",
              "      <td>...</td>\n",
              "      <td>...</td>\n",
              "      <td>...</td>\n",
              "      <td>...</td>\n",
              "      <td>...</td>\n",
              "      <td>...</td>\n",
              "      <td>...</td>\n",
              "      <td>...</td>\n",
              "      <td>...</td>\n",
              "    </tr>\n",
              "    <tr>\n",
              "      <th>106</th>\n",
              "      <td>20</td>\n",
              "      <td>27</td>\n",
              "      <td>-0.148936</td>\n",
              "      <td>0.091440</td>\n",
              "      <td>25.594595</td>\n",
              "      <td>40.466926</td>\n",
              "      <td>26.424608</td>\n",
              "      <td>13.891892</td>\n",
              "      <td>208</td>\n",
              "      <td>514</td>\n",
              "      <td>19502.0</td>\n",
              "      <td>5</td>\n",
              "      <td>7.066148</td>\n",
              "    </tr>\n",
              "    <tr>\n",
              "      <th>107</th>\n",
              "      <td>35</td>\n",
              "      <td>38</td>\n",
              "      <td>-0.041096</td>\n",
              "      <td>0.126957</td>\n",
              "      <td>17.885246</td>\n",
              "      <td>52.695652</td>\n",
              "      <td>28.232359</td>\n",
              "      <td>9.426230</td>\n",
              "      <td>303</td>\n",
              "      <td>575</td>\n",
              "      <td>22854.0</td>\n",
              "      <td>2</td>\n",
              "      <td>6.579130</td>\n",
              "    </tr>\n",
              "    <tr>\n",
              "      <th>108</th>\n",
              "      <td>25</td>\n",
              "      <td>3</td>\n",
              "      <td>0.785714</td>\n",
              "      <td>0.085890</td>\n",
              "      <td>50.666667</td>\n",
              "      <td>56.134969</td>\n",
              "      <td>42.720654</td>\n",
              "      <td>27.166667</td>\n",
              "      <td>183</td>\n",
              "      <td>326</td>\n",
              "      <td>10305.0</td>\n",
              "      <td>0</td>\n",
              "      <td>7.447853</td>\n",
              "    </tr>\n",
              "    <tr>\n",
              "      <th>109</th>\n",
              "      <td>36</td>\n",
              "      <td>11</td>\n",
              "      <td>0.531915</td>\n",
              "      <td>0.072419</td>\n",
              "      <td>30.000000</td>\n",
              "      <td>42.218798</td>\n",
              "      <td>28.887519</td>\n",
              "      <td>16.225000</td>\n",
              "      <td>274</td>\n",
              "      <td>649</td>\n",
              "      <td>12237.0</td>\n",
              "      <td>1</td>\n",
              "      <td>6.705701</td>\n",
              "    </tr>\n",
              "    <tr>\n",
              "      <th>110</th>\n",
              "      <td>11</td>\n",
              "      <td>11</td>\n",
              "      <td>0.000000</td>\n",
              "      <td>0.056410</td>\n",
              "      <td>28.925926</td>\n",
              "      <td>40.000000</td>\n",
              "      <td>27.570370</td>\n",
              "      <td>14.444444</td>\n",
              "      <td>156</td>\n",
              "      <td>390</td>\n",
              "      <td>11287.0</td>\n",
              "      <td>0</td>\n",
              "      <td>6.979487</td>\n",
              "    </tr>\n",
              "  </tbody>\n",
              "</table>\n",
              "<p>111 rows × 13 columns</p>\n",
              "</div>\n",
              "      <button class=\"colab-df-convert\" onclick=\"convertToInteractive('df-377dcecd-da76-41c4-9d4e-f4573d9b0445')\"\n",
              "              title=\"Convert this dataframe to an interactive table.\"\n",
              "              style=\"display:none;\">\n",
              "        \n",
              "  <svg xmlns=\"http://www.w3.org/2000/svg\" height=\"24px\"viewBox=\"0 0 24 24\"\n",
              "       width=\"24px\">\n",
              "    <path d=\"M0 0h24v24H0V0z\" fill=\"none\"/>\n",
              "    <path d=\"M18.56 5.44l.94 2.06.94-2.06 2.06-.94-2.06-.94-.94-2.06-.94 2.06-2.06.94zm-11 1L8.5 8.5l.94-2.06 2.06-.94-2.06-.94L8.5 2.5l-.94 2.06-2.06.94zm10 10l.94 2.06.94-2.06 2.06-.94-2.06-.94-.94-2.06-.94 2.06-2.06.94z\"/><path d=\"M17.41 7.96l-1.37-1.37c-.4-.4-.92-.59-1.43-.59-.52 0-1.04.2-1.43.59L10.3 9.45l-7.72 7.72c-.78.78-.78 2.05 0 2.83L4 21.41c.39.39.9.59 1.41.59.51 0 1.02-.2 1.41-.59l7.78-7.78 2.81-2.81c.8-.78.8-2.07 0-2.86zM5.41 20L4 18.59l7.72-7.72 1.47 1.35L5.41 20z\"/>\n",
              "  </svg>\n",
              "      </button>\n",
              "      \n",
              "  <style>\n",
              "    .colab-df-container {\n",
              "      display:flex;\n",
              "      flex-wrap:wrap;\n",
              "      gap: 12px;\n",
              "    }\n",
              "\n",
              "    .colab-df-convert {\n",
              "      background-color: #E8F0FE;\n",
              "      border: none;\n",
              "      border-radius: 50%;\n",
              "      cursor: pointer;\n",
              "      display: none;\n",
              "      fill: #1967D2;\n",
              "      height: 32px;\n",
              "      padding: 0 0 0 0;\n",
              "      width: 32px;\n",
              "    }\n",
              "\n",
              "    .colab-df-convert:hover {\n",
              "      background-color: #E2EBFA;\n",
              "      box-shadow: 0px 1px 2px rgba(60, 64, 67, 0.3), 0px 1px 3px 1px rgba(60, 64, 67, 0.15);\n",
              "      fill: #174EA6;\n",
              "    }\n",
              "\n",
              "    [theme=dark] .colab-df-convert {\n",
              "      background-color: #3B4455;\n",
              "      fill: #D2E3FC;\n",
              "    }\n",
              "\n",
              "    [theme=dark] .colab-df-convert:hover {\n",
              "      background-color: #434B5C;\n",
              "      box-shadow: 0px 1px 3px 1px rgba(0, 0, 0, 0.15);\n",
              "      filter: drop-shadow(0px 1px 2px rgba(0, 0, 0, 0.3));\n",
              "      fill: #FFFFFF;\n",
              "    }\n",
              "  </style>\n",
              "\n",
              "      <script>\n",
              "        const buttonEl =\n",
              "          document.querySelector('#df-377dcecd-da76-41c4-9d4e-f4573d9b0445 button.colab-df-convert');\n",
              "        buttonEl.style.display =\n",
              "          google.colab.kernel.accessAllowed ? 'block' : 'none';\n",
              "\n",
              "        async function convertToInteractive(key) {\n",
              "          const element = document.querySelector('#df-377dcecd-da76-41c4-9d4e-f4573d9b0445');\n",
              "          const dataTable =\n",
              "            await google.colab.kernel.invokeFunction('convertToInteractive',\n",
              "                                                     [key], {});\n",
              "          if (!dataTable) return;\n",
              "\n",
              "          const docLinkHtml = 'Like what you see? Visit the ' +\n",
              "            '<a target=\"_blank\" href=https://colab.research.google.com/notebooks/data_table.ipynb>data table notebook</a>'\n",
              "            + ' to learn more about interactive tables.';\n",
              "          element.innerHTML = '';\n",
              "          dataTable['output_type'] = 'display_data';\n",
              "          await google.colab.output.renderOutput(dataTable, element);\n",
              "          const docLink = document.createElement('div');\n",
              "          docLink.innerHTML = docLinkHtml;\n",
              "          element.appendChild(docLink);\n",
              "        }\n",
              "      </script>\n",
              "    </div>\n",
              "  </div>\n",
              "  "
            ]
          },
          "metadata": {},
          "execution_count": 80
        }
      ]
    },
    {
      "cell_type": "code",
      "source": [
        "final_df.to_csv(\"Final_DF.csv\",index=False)"
      ],
      "metadata": {
        "id": "KxCS8SGfDOWO"
      },
      "execution_count": null,
      "outputs": []
    }
  ]
}
